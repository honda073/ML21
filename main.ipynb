{
  "nbformat": 4,
  "nbformat_minor": 0,
  "metadata": {
    "colab": {
      "name": "main.ipynb",
      "provenance": [],
      "collapsed_sections": [],
      "authorship_tag": "ABX9TyOBJhwmuNeE4fJyqi8fe4/6"
    },
    "kernelspec": {
      "name": "python3",
      "display_name": "Python 3"
    },
    "language_info": {
      "name": "python"
    }
  },
  "cells": [
    {
      "cell_type": "code",
      "execution_count": 3,
      "metadata": {
        "colab": {
          "base_uri": "https://localhost:8080/",
          "height": 617
        },
        "id": "9QJ_uvA6iSkK",
        "outputId": "4c06fb0f-e12d-43f7-ed56-98635b0e9da9"
      },
      "outputs": [
        {
          "output_type": "display_data",
          "data": {
            "image/png": "[encoded data removed]",
            "text/plain": [
              "<Figure size 288x288 with 1 Axes>"
            ]
          },
          "metadata": {
            "needs_background": "light"
          }
        },
        {
          "output_type": "stream",
          "name": "stdout",
          "text": [
            "正解率0.9866369710467706\n",
            "classification report\n",
            "              precision    recall  f1-score   support\n",
            "\n",
            "           0       1.00      0.99      0.99        88\n",
            "           1       0.98      1.00      0.99        89\n",
            "           2       1.00      1.00      1.00        91\n",
            "           3       1.00      0.98      0.99        93\n",
            "           4       0.99      1.00      0.99        88\n",
            "           5       0.98      0.97      0.97        91\n",
            "           6       0.99      1.00      0.99        90\n",
            "           7       0.99      1.00      0.99        91\n",
            "           8       0.97      0.97      0.97        86\n",
            "           9       0.98      0.97      0.97        91\n",
            "\n",
            "    accuracy                           0.99       898\n",
            "   macro avg       0.99      0.99      0.99       898\n",
            "weighted avg       0.99      0.99      0.99       898\n",
            "\n"
          ]
        }
      ],
      "source": [
        "\n",
        "from sklearn import datasets\n",
        "\n",
        "# 手書き文字セットを読み込む\n",
        "digits = datasets.load_digits()\n",
        "\n",
        "# どのようなデータか、確認してみる\n",
        "import matplotlib.pyplot as plt\n",
        "plt.matshow(digits.images[0], cmap=\"Greys\")\n",
        "plt.show()\n",
        "\n",
        "from sklearn import metrics\n",
        "\n",
        "# 画像データを配列にしたもの(numpy.ndarray型)\n",
        "X = digits.data\n",
        "\n",
        "# 画像データに対する数字(numpy.ndarray型)。ラベルと言う\n",
        "y = digits.target\n",
        "\n",
        "# 訓練データとテストデータに分ける\n",
        "# 訓練データ ：偶数行\n",
        "X_train, y_train = X[0::2], y[0::2]\n",
        "# テストデータ：奇数行\n",
        "X_test, y_test = X[1::2], y[1::2]\n",
        "\n",
        "\n",
        "# 学習器の作成。SVMというアルゴリズムを選択\n",
        "from sklearn import svm\n",
        "clf = svm.SVC(gamma=0.001)\n",
        "\n",
        "# 訓練データとラベルで学習\n",
        "clf.fit(X_train, y_train)\n",
        "\n",
        "# テストデータで試した正解率を返す\n",
        "accuracy = clf.score(X_test, y_test)\n",
        "print(f\"正解率{accuracy}\")\n",
        "\n",
        "# 学習済モデルを使ってテストデータを分類した結果を返す\n",
        "predicted = clf.predict(X_test)\n",
        "\n",
        "# 詳しいレポート\n",
        "# precision(適合率): 選択した正解/選択した集合\n",
        "# recall(再現率) : 選択した正解/全体の正解\n",
        "# F-score(F値) : 適合率と再現率はトレードオフの関係にあるため\n",
        "print(\"classification report\")\n",
        "print(metrics.classification_report(y_test, predicted))"
      ]
    }
  ]
}